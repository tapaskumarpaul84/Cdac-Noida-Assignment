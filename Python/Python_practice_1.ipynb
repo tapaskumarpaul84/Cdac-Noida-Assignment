{
  "nbformat": 4,
  "nbformat_minor": 0,
  "metadata": {
    "colab": {
      "name": "Python practice--1.ipynb",
      "provenance": [],
      "collapsed_sections": []
    },
    "kernelspec": {
      "name": "python3",
      "display_name": "Python 3"
    }
  },
  "cells": [
    {
      "cell_type": "code",
      "metadata": {
        "id": "oN_FI9UghYo9"
      },
      "source": [
        ""
      ],
      "execution_count": null,
      "outputs": []
    },
    {
      "cell_type": "markdown",
      "metadata": {
        "id": "jcIMYAZxh0Yq"
      },
      "source": [
        "Q1. Write a password generator in Python. Be creative with how you generate passwords -\n",
        "strong passwords have a mix of lowercase letters, uppercase letters, numbers, and symbols.\n",
        "The passwords should be random, generating a new password every time the user asks for a\n",
        "new password. Include your code in a main method.\n",
        "Extra:\n",
        " Ask the user how strong they want their password to be. For weak passwords, pick a\n",
        "word or two from a list."
      ]
    },
    {
      "cell_type": "code",
      "metadata": {
        "id": "Hu8lIDbGhyXP",
        "outputId": "3255b409-be68-4e52-f8bd-c8e6450d9ac1",
        "colab": {
          "base_uri": "https://localhost:8080/",
          "height": 51
        }
      },
      "source": [
        "import random\n",
        "s=\"abcdefghijklmnopqrstuvwxyzABCDEFGHIJKLMNOPQRSTUVWXYZ0123456789!@#$%^&*().,\"\n",
        "len=int(input(\"Enter password lenghth:\"))\n",
        "p=\"\".join(random.sample(s,len))\n",
        "print(p)"
      ],
      "execution_count": null,
      "outputs": [
        {
          "output_type": "stream",
          "text": [
            "Enter password lenghth:8\n",
            "84T5K2ux\n"
          ],
          "name": "stdout"
        }
      ]
    },
    {
      "cell_type": "markdown",
      "metadata": {
        "id": "nYrwzDKxtv3C"
      },
      "source": [
        "Q2. Take a list, say for example this one:\n",
        "a = [1, 1, 2, 3, 5, 8, 13, 21, 34, 55, 89]\n",
        "and write a program that prints out all the elements of the list that are less than 5.\n",
        "Extras:\n",
        "1. Instead of printing the elements one by one, make a new list that has all the elements\n",
        "less than 5 from this list in it and print out this new list.\n",
        "2. Write this in one line of Python.\n",
        "3. Ask the user for a number and return a list that contains only elements from the\n",
        "original list a that are smaller than that number given by the user."
      ]
    },
    {
      "cell_type": "code",
      "metadata": {
        "id": "3VNIoJDvhzQm",
        "outputId": "9f67f36f-8263-42dd-cd86-da89dbc46acd",
        "colab": {
          "base_uri": "https://localhost:8080/",
          "height": 51
        }
      },
      "source": [
        "a=[1, 1, 2, 3, 5, 8, 13, 21, 34, 55, 89]\n",
        "print(\"Elements that are less than 5:\")\n",
        "for i in a:\n",
        "  if i<5:\n",
        "    print(i,end=\" \")"
      ],
      "execution_count": null,
      "outputs": [
        {
          "output_type": "stream",
          "text": [
            "Elements that are less than 5:\n",
            "1 1 2 3 "
          ],
          "name": "stdout"
        }
      ]
    },
    {
      "cell_type": "code",
      "metadata": {
        "id": "RBk0oJvmhzmE",
        "outputId": "3306a6cb-64e5-4cc5-a5d4-ca32b171ffe0",
        "colab": {
          "base_uri": "https://localhost:8080/",
          "height": 51
        }
      },
      "source": [
        "a1=[]\n",
        "\n",
        "for i in a:\n",
        "  if i<5:\n",
        "    a1.append(i)\n",
        "print(\"List of element which are less than 5:\")\n",
        "print(a1)"
      ],
      "execution_count": null,
      "outputs": [
        {
          "output_type": "stream",
          "text": [
            "List of element which are less than 5:\n",
            "[1, 1, 2, 3]\n"
          ],
          "name": "stdout"
        }
      ]
    },
    {
      "cell_type": "code",
      "metadata": {
        "id": "mrxTLbvTwwm3",
        "outputId": "724fc768-fa8d-44db-c9b1-ba1d65c39a72",
        "colab": {
          "base_uri": "https://localhost:8080/",
          "height": 51
        }
      },
      "source": [
        "a2=[x for x in a if x<5]\n",
        "print(\"List of elements which are less than 5\")\n",
        "print(a2)"
      ],
      "execution_count": null,
      "outputs": [
        {
          "output_type": "stream",
          "text": [
            "List of elements which are less than 5\n",
            "[1, 1, 2, 3]\n"
          ],
          "name": "stdout"
        }
      ]
    },
    {
      "cell_type": "code",
      "metadata": {
        "id": "pFvBQf1kxC4c",
        "outputId": "4b7b8977-016d-4d4f-e192-ab469263b21b",
        "colab": {
          "base_uri": "https://localhost:8080/",
          "height": 68
        }
      },
      "source": [
        "num=int(input(\"Enter the number:\"))\n",
        "a3=[x for x in a if x<num]\n",
        "print(\"List of elements that are smaller than %d\"%num)\n",
        "print(a3)"
      ],
      "execution_count": null,
      "outputs": [
        {
          "output_type": "stream",
          "text": [
            "Enter the number:50\n",
            "List of elements that are smaller than 50\n",
            "[1, 1, 2, 3, 5, 8, 13, 21, 34]\n"
          ],
          "name": "stdout"
        }
      ]
    },
    {
      "cell_type": "markdown",
      "metadata": {
        "id": "GmjLX6JHx46L"
      },
      "source": [
        "Q3. Create a program that will play the “cows and bulls” game with the user. The game\n",
        "works like this:\n",
        "Randomly generate a 4-digit number. Ask the user to guess a 4-digit number. For every digit\n",
        "that the user guessed correctly in the correct place, they have a “cow”. For every digit the\n",
        "user guessed correctly in the wrong place is a “bull.” Every time the user makes a guess, tell\n",
        "them how many “cows” and “bulls” they have. Once the user guesses the correct number, the\n",
        "game is over. Keep track of the number of guesses the user makes throughout teh game and\n",
        "tell the user at the end.\n",
        "Say the number generated by the computer is 1038. An example interaction could look like\n",
        "this:\n",
        "Welcome to the Cows and Bulls Game!\n",
        "Enter a number:\n",
        ">>> 1234\n",
        "2 cows, 0 bulls\n",
        ">>> 1256\n",
        "1 cow, 1 bull\n",
        "...\n",
        "Until the user guesses the number."
      ]
    },
    {
      "cell_type": "code",
      "metadata": {
        "id": "jNM9xWZaxuu6",
        "outputId": "99082d3c-ce02-4658-b139-126bd4cec694",
        "colab": {
          "base_uri": "https://localhost:8080/",
          "height": 68
        }
      },
      "source": [
        "import random\n",
        "random_number=str(random.randint(1000,10000))\n",
        "print(\"Randomly generated number\",random_number)\n",
        "\n",
        "while 1:\n",
        "  guess_number=input(\"Guess 4 digit number:\")\n",
        "  cow=0\n",
        "  bull=0\n",
        "  if guess_number!=random_number:\n",
        "    for i in range(4):\n",
        "      if guess_number[i] in random_number:\n",
        "        if random_number[i]==guess_number[i]:\n",
        "          cow=cow+1\n",
        "        else:\n",
        "          bull=bull+1\n",
        "    print(cow,\"cows\",bull,\"bulls\")\n",
        "    \n",
        "  else:\n",
        "    print(len(guess_number),\"cows\",\"0 bulls\")\n",
        "    break\n",
        "\n"
      ],
      "execution_count": null,
      "outputs": [
        {
          "output_type": "stream",
          "text": [
            "Randomly generated number 5930\n",
            "Guess 4 digit number:5930\n",
            "4 cows 0 bulls\n"
          ],
          "name": "stdout"
        }
      ]
    },
    {
      "cell_type": "code",
      "metadata": {
        "id": "r_QJ3IfWLBAv"
      },
      "source": [
        ""
      ],
      "execution_count": null,
      "outputs": []
    },
    {
      "cell_type": "markdown",
      "metadata": {
        "id": "WPZA5rWfd60b"
      },
      "source": [
        "Q4. Write a program that asks the user how many Fibonnaci numbers to generate and then\n",
        "generates them. Take this opportunity to think about how you can use functions. Make sure to\n",
        "ask the user to enter the number of numbers in the sequence to generate.(Hint: The Fibonnaci\n",
        "seqence is a sequence of numbers where the next number in the sequence is the sum of the\n",
        "previous two numbers in the sequence. The sequence looks like this: 1, 1, 2, 3, 5, 8, 13, …)"
      ]
    },
    {
      "cell_type": "code",
      "metadata": {
        "id": "Yn6L9blCLIX4",
        "outputId": "e0227450-ab70-4aee-e79b-79966948615a",
        "colab": {
          "base_uri": "https://localhost:8080/",
          "height": 68
        }
      },
      "source": [
        "def fibo(num):\n",
        "  a=1\n",
        "  b=1\n",
        "  print(\"Fibonacci series is:\")\n",
        "  print(a,b,end=\" \")\n",
        "  for i in range(num-2):\n",
        "    c=a+b\n",
        "    a=b\n",
        "    b=c\n",
        "    print(c,end=\" \")\n",
        "num=int(input(\"Enter number of numbers:\"))\n",
        "fibo(num)"
      ],
      "execution_count": null,
      "outputs": [
        {
          "output_type": "stream",
          "text": [
            "Enter number of numbers:8\n",
            "Fibonacci series is:\n",
            "1 1 2 3 5 8 13 21 "
          ],
          "name": "stdout"
        }
      ]
    },
    {
      "cell_type": "markdown",
      "metadata": {
        "id": "M4n3nKR6hzWf"
      },
      "source": [
        "Q5. Given two .txt files that have lists of numbers in them, find the numbers that are\n",
        "overlapping. One .txt file has a list of all prime numbers under 1000, and the other .txt file\n",
        "has a list of happy numbers up to 1000.\n",
        "(If you forgot, prime numbers are numbers that can’t be divided by any other number. And\n",
        "yes, happy numbers are a real thing in mathematics - you can look it up on Wikipedia. The\n",
        "explanation is easier with an example, which I will describe below.)"
      ]
    },
    {
      "cell_type": "code",
      "metadata": {
        "id": "C8Ij0FmIfws5"
      },
      "source": [
        ""
      ],
      "execution_count": null,
      "outputs": []
    }
  ]
}