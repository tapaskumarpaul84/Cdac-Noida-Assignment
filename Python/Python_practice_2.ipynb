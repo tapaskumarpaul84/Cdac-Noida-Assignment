{
  "nbformat": 4,
  "nbformat_minor": 0,
  "metadata": {
    "colab": {
      "name": "Python practice_2.ipynb",
      "provenance": []
    },
    "kernelspec": {
      "name": "python3",
      "display_name": "Python 3"
    }
  },
  "cells": [
    {
      "cell_type": "code",
      "metadata": {
        "id": "7gDXMx0X6X1n"
      },
      "source": [
        ""
      ],
      "execution_count": null,
      "outputs": []
    },
    {
      "cell_type": "markdown",
      "metadata": {
        "id": "uhyyjssL6fWs"
      },
      "source": [
        "1. For this exercise, we will keep track of when our friend’s birthdays are,\n",
        "and be able to find that information based on their name. Create a\n",
        "dictionary (in your file) of names and birthdays. When you run your\n",
        "program it should ask the user to enter a name, and return the birthday of\n",
        "that person back to them. The interaction should look something like this:\n",
        ">>> Welcome to the birthday dictionary. We know the birthdays of:\n",
        "Albert Einstein\n",
        "Benjamin Franklin\n",
        "Ada Lovelace\n",
        ">>> Who's birthday do you want to look up?\n",
        "Benjamin Franklin\n",
        ">>> Benjamin Franklin's birthday is 01/17/1706"
      ]
    },
    {
      "cell_type": "code",
      "metadata": {
        "id": "qEN0c63F6mOj",
        "outputId": "4a3ebe5f-9098-4dd2-e3c3-ffce25a0c62a",
        "colab": {
          "base_uri": "https://localhost:8080/",
          "height": 204
        }
      },
      "source": [
        "num=int(input(\"Enter the number of friends:\"))\n",
        "dic={}\n",
        "for i in range(num):\n",
        "  name=input(\"Enter the friend name:\")\n",
        "  birth=input(\"Enter date of birth(dd/mm/yyyy)\")\n",
        "  dic[name]=birth\n",
        "print(\"Dictionary of friends and their dob\")\n",
        "print(dic)\n",
        "friend_name=input(\"Enter name to know birthday:\")\n",
        "if friend_name in dic:\n",
        "  print(\"%s's birthday is %s\"%(friend_name,dic[friend_name]))\n",
        "else:\n",
        "  print(\"Name is not in the list\")"
      ],
      "execution_count": null,
      "outputs": [
        {
          "output_type": "stream",
          "text": [
            "Enter the number of friends:3\n",
            "Enter the friend name:tapas\n",
            "Enter date of birth(dd/mm/yyyy)28/02/1997\n",
            "Enter the friend name:sujit\n",
            "Enter date of birth(dd/mm/yyyy)29/09/1996\n",
            "Enter the friend name:pratik\n",
            "Enter date of birth(dd/mm/yyyy)11/06/1996\n",
            "Dictionary of friends and their dob\n",
            "{'tapas': '28/02/1997', 'sujit': '29/09/1996', 'pratik': '11/06/1996'}\n",
            "Enter name to know birthday:sujit\n",
            "sujit's birthday is 29/09/1996\n"
          ],
          "name": "stdout"
        }
      ]
    },
    {
      "cell_type": "markdown",
      "metadata": {
        "id": "5LSpnxBG-OCM"
      },
      "source": [
        "2. Implement a function that takes as input three variables, and returns the\n",
        "largest of the three. Do this without using the Python max() function!\n",
        "The goal of this exercise is to think about some internals that Python\n",
        "normally takes care of for us. All you need is some variables\n",
        "and if statements!"
      ]
    },
    {
      "cell_type": "code",
      "metadata": {
        "id": "GmDwiu0Z76c3",
        "outputId": "e0d87708-fcc8-4295-e4e6-835962bd749f",
        "colab": {
          "base_uri": "https://localhost:8080/",
          "height": 51
        }
      },
      "source": [
        "def large(a,b,c):\n",
        "  if (a>b and a>c):\n",
        "    print(\"Largest number is:\",a)\n",
        "  elif (b>c):\n",
        "    print(\"Largest number is:\",b)\n",
        "  else:\n",
        "    print(\"Largest number is:\",c)\n",
        "a,b,c=[int(x) for x in input(\"Enter three numbers:\").split(\",\")]\n",
        "large(a,b,c)\n"
      ],
      "execution_count": null,
      "outputs": [
        {
          "output_type": "stream",
          "text": [
            "Enter three numbers:8,7,9\n",
            "Largest number is: 9\n"
          ],
          "name": "stdout"
        }
      ]
    },
    {
      "cell_type": "markdown",
      "metadata": {
        "id": "Ef52lHk2GVeQ"
      },
      "source": [
        "3. Time for some fake graphics! Let’s say we want to draw game boards\n",
        "that look like this:\n",
        "\n",
        "This one is 3x3 (like in tic tac toe). Obviously, they come in many other\n",
        "sizes (8x8 for chess, 19x19 for Go, and many more).\n",
        "Ask the user what size game board they want to draw, and draw it for them\n",
        "to the screen using Python’s print statement."
      ]
    },
    {
      "cell_type": "code",
      "metadata": {
        "id": "TBfPY40X_puL",
        "outputId": "c3ab5b8c-d304-4dee-aae5-ebcaacbd8b5c",
        "colab": {
          "base_uri": "https://localhost:8080/",
          "height": 153
        }
      },
      "source": [
        "size=int(input(\"Enter size of the game board:\"))\n",
        "for i in range(1,2*size+2):\n",
        "  if i%2!=0:\n",
        "    for j in range(1,2*size+2):\n",
        "      if j%2==0:\n",
        "        print(\"---\",end=\"\")\n",
        "      else:\n",
        "        print(\" \",end=\"\")\n",
        "      \n",
        "  else:\n",
        "    for j in range(1,2*size+2):\n",
        "      if j%2==0:\n",
        "        print(\"   \",end=\"\")\n",
        "      else:\n",
        "        print(\"|\",end=\"\")\n",
        "  print()\n",
        "    \n",
        "  \n"
      ],
      "execution_count": null,
      "outputs": [
        {
          "output_type": "stream",
          "text": [
            "Enter size of the game board:3\n",
            " --- --- --- \n",
            "|   |   |   |\n",
            " --- --- --- \n",
            "|   |   |   |\n",
            " --- --- --- \n",
            "|   |   |   |\n",
            " --- --- --- \n"
          ],
          "name": "stdout"
        }
      ]
    },
    {
      "cell_type": "markdown",
      "metadata": {
        "id": "mcPejll5Q5jG"
      },
      "source": [
        "4. Write a function that takes an ordered list of numbers (a list where the\n",
        "elements are in order from smallest to largest) and another number. The\n",
        "function decides whether or not the given number is inside the list and\n",
        "returns (then prints) an appropriate boolean.\n",
        "Hint:\n",
        " Use binary search"
      ]
    },
    {
      "cell_type": "code",
      "metadata": {
        "id": "N41tLxyt_1-n",
        "outputId": "183d65df-e855-4184-e0fc-7b25c0c1660a",
        "colab": {
          "base_uri": "https://localhost:8080/",
          "height": 51
        }
      },
      "source": [
        "def binary_search(list,search_element):\n",
        "\tstart= 0\n",
        "\tend= len(list)-1\n",
        "\t\n",
        "\twhile( start<=end):\n",
        "\t\tmiddle_index = (start + end)//2\n",
        "\t\tif list[middle_index] ==search_element :\n",
        "\t\t\treturn True\n",
        "\t\telse:\n",
        "\t\t\tif search_element < list[middle_index]:\n",
        "\t\t\t\tend = middle_index - 1\n",
        "\t\t\telse:\n",
        "\t\t\t\tstart = middle_index + 1\t\n",
        "\treturn False \n",
        "list=[2,4,6,8,10,12]\n",
        "search_element=int(input(\"Enter search element:\"))\n",
        "print(binary_search(list,search_element))\n"
      ],
      "execution_count": null,
      "outputs": [
        {
          "output_type": "stream",
          "text": [
            "Enter search element:5\n",
            "False\n"
          ],
          "name": "stdout"
        }
      ]
    },
    {
      "cell_type": "markdown",
      "metadata": {
        "id": "gvIeNK6eeokX"
      },
      "source": [
        "5. Ask the user for a number and determine whether the number is prime\n",
        "or not. (For those who have forgotten, a prime number is a number that has\n",
        "no divisors.)."
      ]
    },
    {
      "cell_type": "code",
      "metadata": {
        "id": "Ea7YxXKGAs2v",
        "outputId": "8c123e31-8da7-4443-8b35-4ddeb12b047b",
        "colab": {
          "base_uri": "https://localhost:8080/",
          "height": 51
        }
      },
      "source": [
        "num=int(input(\"Enter the number:\"))\n",
        "half=num//2\n",
        "if num>1:\n",
        "  for i in range(2,half+1):\n",
        "    if num%i==0:\n",
        "      print(\"%d is not a prime number\"%num)\n",
        "      break\n",
        "  else:\n",
        "    print(\"%d is a prime number\"%num)\n",
        "else:\n",
        "  print(\"%d is not a prime number\")\n",
        "  \n",
        "    \n",
        "  "
      ],
      "execution_count": null,
      "outputs": [
        {
          "output_type": "stream",
          "text": [
            "Enter the number:25\n",
            "25 is not a prime number\n"
          ],
          "name": "stdout"
        }
      ]
    },
    {
      "cell_type": "code",
      "metadata": {
        "id": "dFHdWIi2ZXxt"
      },
      "source": [
        ""
      ],
      "execution_count": null,
      "outputs": []
    }
  ]
}