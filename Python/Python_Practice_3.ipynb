{
  "nbformat": 4,
  "nbformat_minor": 0,
  "metadata": {
    "colab": {
      "name": "Python Practice_4.ipynb",
      "provenance": []
    },
    "kernelspec": {
      "name": "python3",
      "display_name": "Python 3"
    }
  },
  "cells": [
    {
      "cell_type": "code",
      "metadata": {
        "id": "JB0x8dbDGbtA"
      },
      "source": [
        ""
      ],
      "execution_count": null,
      "outputs": []
    },
    {
      "cell_type": "markdown",
      "metadata": {
        "id": "l3SytRfAGsBQ"
      },
      "source": [
        "Q. 1. In cryptography, a Caesar cipher is a very simple encryption technique in which\n",
        "each letter in the plain text is replaced by a letter some fixed number of positions down\n",
        "the alphabet. For example, with a shift of 3, A would be replaced by D, B would become\n",
        "E, and so on. The method is named after Julius Caesar, who used it to communicate with\n",
        "his generals. ROT-13 (\"rotate by 13 places\") is a widely used example of a Caesar cipher\n",
        "where the shift is 13. In Python, the key for ROT-13 may be represented by means of the\n",
        "following dictionary:\n",
        "key = {'a':'n', 'b':'o', 'c':'p', 'd':'q', 'e':'r', 'f':'s', 'g':'t', 'h':'u', 'i':'v', 'j':'w', 'k':'x', 'l':'y', 'm':'z',\n",
        "'n':'a', 'o':'b', 'p':'c', 'q':'d', 'r':'e', 's':'f', 't':'g', 'u':'h', 'v':'i', 'w':'j', 'x':'k', 'y':'l', 'z':'m', 'A':'N',\n",
        "'B':'O', 'C':'P', 'D':'Q', 'E':'R', 'F':'S', 'G':'T', 'H':'U', 'I':'V', 'J':'W', 'K':'X', 'L':'Y', 'M':'Z',\n",
        "'N':'A', 'O':'B', 'P':'C', 'Q':'D', 'R':'E', 'S':'F', 'T':'G', 'U':'H', 'V':'I', 'W':'J', 'X':'K', 'Y':'L',\n",
        "'Z':'M'}\n",
        "Your task in this exercise is to implement an encoder/decoder of ROT-13. Once you're\n",
        "done, you will be able to read the following secret message:\n",
        "Pnrfne pvcure? V zhpu cersre Pnrfne fnynq!\n",
        "\n",
        "Note that since English has 26 characters, your ROT-13 program will be able to both\n",
        "encode and decode texts written in English."
      ]
    },
    {
      "cell_type": "code",
      "metadata": {
        "id": "gejoWFMqG3CL",
        "outputId": "9c4dfe22-bd45-4a21-dbdc-69a2e7a5cb3b",
        "colab": {
          "base_uri": "https://localhost:8080/",
          "height": 68
        }
      },
      "source": [
        "def cryptoghaph(str,rot):\n",
        "  str1=\"\"\n",
        "  for i in str:\n",
        "    if ord(i)>=65 and ord(i)<=90:\n",
        "      t=ord(i)+rot\n",
        "      if t>90:\n",
        "        t1=65+(t-90)-1\n",
        "      else:\n",
        "        t1=t\n",
        "      str1=str1+chr(t1)\n",
        "    elif ord(i)>=97 and ord(i)<=122:\n",
        "      t=ord(i)+rot\n",
        "      if t>122:\n",
        "        t1=97+(t-122)-1\n",
        "      else:\n",
        "        t1=t\n",
        "      str1=str1+chr(t1)\n",
        "    else:\n",
        "      str1=str1+i\n",
        "  print(str1)\n",
        "\n",
        "\n",
        "str=input(\"Enter the string:\")\n",
        "rot=int(input(\"Enter the rot number:\"))\n",
        "cryptoghaph(str,rot)"
      ],
      "execution_count": null,
      "outputs": [
        {
          "output_type": "stream",
          "text": [
            "Enter the string:xyz\n",
            "Enter the rot number:3\n",
            "abc\n"
          ],
          "name": "stdout"
        }
      ]
    },
    {
      "cell_type": "markdown",
      "metadata": {
        "id": "tPcc_a1uOcZ5"
      },
      "source": [
        "Q2. Given a dictionary of students and their favourite colours:\n",
        "people={'Arham':'Blue','Lisa':'Yellow',''Vinod:'Purple','Jenny':'Pink'}\n",
        "1. Find out how many students are in the list\n",
        "2. Change Lisa’s favourite colour\n",
        "3. Remove 'Jenny' and her favourite colour\n",
        "4. Sort and print students and their favourite colours alphabetically by name\n",
        "\n",
        "Write a function translate () that will translate a text into \"rövarspråket\" (Swedish for\n",
        "\"robber's language\"). That is, double every consonant and place an occurrence of \"o\" in\n",
        "between. For example, translate (\"this is fun\") should return the string \"tothohisos isos\n",
        "fofunon\"."
      ]
    },
    {
      "cell_type": "code",
      "metadata": {
        "id": "fMIeluWSHc_3",
        "outputId": "202df09c-79aa-48b7-b451-ce0ef7a2876f",
        "colab": {
          "base_uri": "https://localhost:8080/",
          "height": 85
        }
      },
      "source": [
        " people={'Arham':'Blue','Lisa':'Yellow','Vinod':'Purple','Jenny':'Pink'}\n",
        " print(\"Number of students in the list:\",len(people.keys()))\n",
        " people['Lisa']=input(\"change Lisa's favourite colour:\")\n",
        " print(people)\n",
        " people.pop(\"Jenny\")\n",
        " print(people)"
      ],
      "execution_count": null,
      "outputs": [
        {
          "output_type": "stream",
          "text": [
            "Number of students in the list: 4\n",
            "change Lisa's favourite colour:green\n",
            "{'Arham': 'Blue', 'Lisa': 'green', 'Vinod': 'Purple', 'Jenny': 'Pink'}\n",
            "{'Arham': 'Blue', 'Lisa': 'green', 'Vinod': 'Purple'}\n"
          ],
          "name": "stdout"
        }
      ]
    },
    {
      "cell_type": "code",
      "metadata": {
        "id": "YvGLAa2hIs1-",
        "outputId": "e87635e3-b899-4b40-bd52-b9efd4d1bef6",
        "colab": {
          "base_uri": "https://localhost:8080/",
          "height": 34
        }
      },
      "source": [
        "from collections import OrderedDict\n",
        "people={'Arham':'Blue','Lisa':'Yellow','Vinod':'Purple','Jenny':'Pink'}\n",
        "people2=OrderedDict(sorted(people.items()))\n",
        "print(people2)\n"
      ],
      "execution_count": null,
      "outputs": [
        {
          "output_type": "stream",
          "text": [
            "OrderedDict([('Arham', 'Blue'), ('Jenny', 'Pink'), ('Lisa', 'Yellow'), ('Vinod', 'Purple')])\n"
          ],
          "name": "stdout"
        }
      ]
    },
    {
      "cell_type": "code",
      "metadata": {
        "id": "LWsVUkMOLnxp",
        "outputId": "b836c531-4ae4-4de7-e803-d44862f989c6",
        "colab": {
          "base_uri": "https://localhost:8080/",
          "height": 34
        }
      },
      "source": [
        "people={'Arham':'Blue','Lisa':'Yellow','Vinod':'Purple','Jenny':'Pink'}\n",
        "for i in sorted(people):\n",
        "  print((i,people[i]),end=\" \")"
      ],
      "execution_count": null,
      "outputs": [
        {
          "output_type": "stream",
          "text": [
            "('Arham', 'Blue') ('Jenny', 'Pink') ('Lisa', 'Yellow') ('Vinod', 'Purple') "
          ],
          "name": "stdout"
        }
      ]
    },
    {
      "cell_type": "code",
      "metadata": {
        "id": "K-OkypXVVE50",
        "outputId": "6bf0cdf2-6804-490e-f576-0e53b4e75a2e",
        "colab": {
          "base_uri": "https://localhost:8080/",
          "height": 51
        }
      },
      "source": [
        "def translate(str):\n",
        "  cons='bcdfghjklmnpqrstvwxyzBCDFGHJKLMNPQRSTVWXYZ'\n",
        "  str1=\"\"\n",
        "  for i in str:\n",
        "    if i in cons:\n",
        "      str1=str1+i+'o'+i\n",
        "    else:\n",
        "      str1=str1+i\n",
        "  print(str1)\n",
        "str=input(\"Enter the string:\")\n",
        "translate(str)\n",
        "\n"
      ],
      "execution_count": null,
      "outputs": [
        {
          "output_type": "stream",
          "text": [
            "Enter the string:this is fun\n",
            "tothohisos isos fofunon\n"
          ],
          "name": "stdout"
        }
      ]
    },
    {
      "cell_type": "markdown",
      "metadata": {
        "id": "F2O-tFwWZYmC"
      },
      "source": [
        "Q. 3. Write a program that contains a function that has one parameter, n, representing an\n",
        "integer greater than 0. The function should return n! (n factorial). Then write a main\n",
        "function that calls this function with the values 1 through 20, one at a time, printing the\n",
        "returned results. This is what your output should look like:\n",
        "\n",
        "1 1\n",
        "\n",
        "2 2\n",
        "\n",
        "3 6\n",
        "\n",
        "4 24\n",
        "\n",
        "5 120\n",
        "\n",
        "6 720\n",
        "\n",
        "7 5040\n",
        "\n",
        "8 40320\n",
        "\n",
        "9 362880\n",
        "\n",
        "10 3628800"
      ]
    },
    {
      "cell_type": "code",
      "metadata": {
        "id": "gz1B3Mj0YLk-",
        "outputId": "b1382e23-aa87-4b5b-f82d-676bb4f710cb",
        "colab": {
          "base_uri": "https://localhost:8080/",
          "height": 204
        }
      },
      "source": [
        "n=int(input(\"Enter the number:\"))\n",
        "mul=1\n",
        "if n>=1:\n",
        "  for i in range(1,n+1):\n",
        "    mul=mul*i\n",
        "    print(i ,' ',mul)"
      ],
      "execution_count": null,
      "outputs": [
        {
          "output_type": "stream",
          "text": [
            "Enter the number:10\n",
            "1   1\n",
            "2   2\n",
            "3   6\n",
            "4   24\n",
            "5   120\n",
            "6   720\n",
            "7   5040\n",
            "8   40320\n",
            "9   362880\n",
            "10   3628800\n"
          ],
          "name": "stdout"
        }
      ]
    },
    {
      "cell_type": "markdown",
      "metadata": {
        "id": "pIdooo84cfsj"
      },
      "source": [
        "Q. 4. We can define sum from 1 to x (i.e. 1 + 2 + ... + x) recursively as follows for integer\n",
        "x ≥ 1:\n",
        "1, if x = 1\n",
        "x + sum from 1 to x-1 if x > 1\n",
        "Complete the following Python program to compute the sum 1 + 2 + 3 + 4 + 5 + 6 + 7 + 8+ 9 + 10 recursively:\n",
        "\n",
        "def main():\n",
        "# compute and print 1 + 2 + ... + 10\n",
        "print sum(10)\n",
        "def sum(x):\n",
        "# you complete this function recursively main()"
      ]
    },
    {
      "cell_type": "code",
      "metadata": {
        "id": "zgRBHJCGb9IJ",
        "outputId": "d207773e-1c97-4643-f9f4-f47171544651",
        "colab": {
          "base_uri": "https://localhost:8080/",
          "height": 51
        }
      },
      "source": [
        "def sum(n):\n",
        "  if n<=1:\n",
        "    return n\n",
        "  return (n+sum(n-1))\n",
        "n=int(input(\"Enter the number of digit:\"))\n",
        "for i in range(1,2*n):\n",
        "  if i%2!=0:\n",
        "    print(i//2+1,end=\"\")\n",
        "  else:\n",
        "    print(\"+\",end=\"\")\n",
        "  \n",
        "print(\"=\",sum(n))"
      ],
      "execution_count": null,
      "outputs": [
        {
          "output_type": "stream",
          "text": [
            "Enter the number of digit:8\n",
            "1+2+3+4+5+6+7+8= 36\n"
          ],
          "name": "stdout"
        }
      ]
    },
    {
      "cell_type": "markdown",
      "metadata": {
        "id": "_YT8M5jJhGzX"
      },
      "source": [
        "Q. 5. Define a function overlapping () that takes two lists and returns True if they have at\n",
        "least one member in common, False otherwise."
      ]
    },
    {
      "cell_type": "code",
      "metadata": {
        "id": "f1fX3FRhec97",
        "outputId": "def51285-50f0-43d2-88d4-21b5ad8141c1",
        "colab": {
          "base_uri": "https://localhost:8080/",
          "height": 68
        }
      },
      "source": [
        "def overlapping(list1,list2):\n",
        "  result=False\n",
        "  for i in list1:\n",
        "    for j in list2:\n",
        "      if i==j:\n",
        "        result=True\n",
        "        #return result\n",
        "  print(result)\n",
        "list1=list(map(int,input(\"Enter list1 member:\").split(\",\")))\n",
        "list2=list(map(int,input(\"Enter list2 member:\").split(\",\")))\n",
        "overlapping(list1,list2)"
      ],
      "execution_count": null,
      "outputs": [
        {
          "output_type": "stream",
          "text": [
            "Enter list1 member:1,2,3,4,5\n",
            "Enter list2 member:1,6,7,8,9\n",
            "True\n"
          ],
          "name": "stdout"
        }
      ]
    },
    {
      "cell_type": "code",
      "metadata": {
        "id": "xjfOa_iAic-h"
      },
      "source": [
        ""
      ],
      "execution_count": null,
      "outputs": []
    },
    {
      "cell_type": "code",
      "metadata": {
        "id": "oL0PdcS6jTYv"
      },
      "source": [
        ""
      ],
      "execution_count": null,
      "outputs": []
    }
  ]
}