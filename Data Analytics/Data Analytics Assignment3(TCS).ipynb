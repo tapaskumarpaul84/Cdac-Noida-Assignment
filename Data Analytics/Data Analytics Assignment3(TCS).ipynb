{
 "cells": [
  {
   "cell_type": "code",
   "execution_count": 1,
   "metadata": {},
   "outputs": [],
   "source": [
    "import pandas as pd\n",
    "import numpy as np\n",
    "import matplotlib.pyplot as plt\n",
    "%matplotlib inline"
   ]
  },
  {
   "cell_type": "code",
   "execution_count": 2,
   "metadata": {},
   "outputs": [],
   "source": [
    "tcs=pd.read_csv('TCS.NS.csv')\n",
    "tsla=pd.read_csv('TSLA.csv')\n",
    "wipro=pd.read_csv('WIPRO.NS.csv')\n",
    "infy=pd.read_csv('INFY.NS.csv')"
   ]
  },
  {
   "cell_type": "code",
   "execution_count": 3,
   "metadata": {},
   "outputs": [
    {
     "data": {
      "text/html": [
       "<div>\n",
       "<style scoped>\n",
       "    .dataframe tbody tr th:only-of-type {\n",
       "        vertical-align: middle;\n",
       "    }\n",
       "\n",
       "    .dataframe tbody tr th {\n",
       "        vertical-align: top;\n",
       "    }\n",
       "\n",
       "    .dataframe thead th {\n",
       "        text-align: right;\n",
       "    }\n",
       "</style>\n",
       "<table border=\"1\" class=\"dataframe\">\n",
       "  <thead>\n",
       "    <tr style=\"text-align: right;\">\n",
       "      <th></th>\n",
       "      <th>Date</th>\n",
       "      <th>Open</th>\n",
       "      <th>High</th>\n",
       "      <th>Low</th>\n",
       "      <th>Close</th>\n",
       "      <th>Adj Close</th>\n",
       "      <th>Volume</th>\n",
       "    </tr>\n",
       "  </thead>\n",
       "  <tbody>\n",
       "    <tr>\n",
       "      <th>0</th>\n",
       "      <td>2020-01-09</td>\n",
       "      <td>2248.750000</td>\n",
       "      <td>2251.949951</td>\n",
       "      <td>2210.000000</td>\n",
       "      <td>2214.350098</td>\n",
       "      <td>2172.721680</td>\n",
       "      <td>3734173.0</td>\n",
       "    </tr>\n",
       "    <tr>\n",
       "      <th>1</th>\n",
       "      <td>2020-01-10</td>\n",
       "      <td>2228.000000</td>\n",
       "      <td>2234.000000</td>\n",
       "      <td>2208.000000</td>\n",
       "      <td>2213.550049</td>\n",
       "      <td>2171.936523</td>\n",
       "      <td>1915807.0</td>\n",
       "    </tr>\n",
       "    <tr>\n",
       "      <th>2</th>\n",
       "      <td>2020-01-13</td>\n",
       "      <td>2217.850098</td>\n",
       "      <td>2218.949951</td>\n",
       "      <td>2184.699951</td>\n",
       "      <td>2190.350098</td>\n",
       "      <td>2149.172852</td>\n",
       "      <td>2843893.0</td>\n",
       "    </tr>\n",
       "    <tr>\n",
       "      <th>3</th>\n",
       "      <td>2020-01-14</td>\n",
       "      <td>2195.000000</td>\n",
       "      <td>2229.800049</td>\n",
       "      <td>2195.000000</td>\n",
       "      <td>2206.899902</td>\n",
       "      <td>2165.411377</td>\n",
       "      <td>2948452.0</td>\n",
       "    </tr>\n",
       "    <tr>\n",
       "      <th>4</th>\n",
       "      <td>2020-01-15</td>\n",
       "      <td>2213.000000</td>\n",
       "      <td>2231.000000</td>\n",
       "      <td>2194.199951</td>\n",
       "      <td>2226.899902</td>\n",
       "      <td>2185.035400</td>\n",
       "      <td>2620681.0</td>\n",
       "    </tr>\n",
       "  </tbody>\n",
       "</table>\n",
       "</div>"
      ],
      "text/plain": [
       "         Date         Open         High          Low        Close  \\\n",
       "0  2020-01-09  2248.750000  2251.949951  2210.000000  2214.350098   \n",
       "1  2020-01-10  2228.000000  2234.000000  2208.000000  2213.550049   \n",
       "2  2020-01-13  2217.850098  2218.949951  2184.699951  2190.350098   \n",
       "3  2020-01-14  2195.000000  2229.800049  2195.000000  2206.899902   \n",
       "4  2020-01-15  2213.000000  2231.000000  2194.199951  2226.899902   \n",
       "\n",
       "     Adj Close     Volume  \n",
       "0  2172.721680  3734173.0  \n",
       "1  2171.936523  1915807.0  \n",
       "2  2149.172852  2843893.0  \n",
       "3  2165.411377  2948452.0  \n",
       "4  2185.035400  2620681.0  "
      ]
     },
     "execution_count": 3,
     "metadata": {},
     "output_type": "execute_result"
    }
   ],
   "source": [
    "tcs.head()"
   ]
  },
  {
   "cell_type": "code",
   "execution_count": 4,
   "metadata": {},
   "outputs": [
    {
     "data": {
      "text/html": [
       "<div>\n",
       "<style scoped>\n",
       "    .dataframe tbody tr th:only-of-type {\n",
       "        vertical-align: middle;\n",
       "    }\n",
       "\n",
       "    .dataframe tbody tr th {\n",
       "        vertical-align: top;\n",
       "    }\n",
       "\n",
       "    .dataframe thead th {\n",
       "        text-align: right;\n",
       "    }\n",
       "</style>\n",
       "<table border=\"1\" class=\"dataframe\">\n",
       "  <thead>\n",
       "    <tr style=\"text-align: right;\">\n",
       "      <th></th>\n",
       "      <th>Date</th>\n",
       "      <th>Open</th>\n",
       "      <th>High</th>\n",
       "      <th>Low</th>\n",
       "      <th>Close</th>\n",
       "      <th>Adj Close</th>\n",
       "      <th>Volume</th>\n",
       "    </tr>\n",
       "  </thead>\n",
       "  <tbody>\n",
       "    <tr>\n",
       "      <th>0</th>\n",
       "      <td>2020-01-09</td>\n",
       "      <td>99.419998</td>\n",
       "      <td>99.760002</td>\n",
       "      <td>94.573997</td>\n",
       "      <td>96.267998</td>\n",
       "      <td>96.267998</td>\n",
       "      <td>142202000</td>\n",
       "    </tr>\n",
       "    <tr>\n",
       "      <th>1</th>\n",
       "      <td>2020-01-10</td>\n",
       "      <td>96.358002</td>\n",
       "      <td>96.987999</td>\n",
       "      <td>94.739998</td>\n",
       "      <td>95.629997</td>\n",
       "      <td>95.629997</td>\n",
       "      <td>64797500</td>\n",
       "    </tr>\n",
       "    <tr>\n",
       "      <th>2</th>\n",
       "      <td>2020-01-13</td>\n",
       "      <td>98.699997</td>\n",
       "      <td>105.125999</td>\n",
       "      <td>98.400002</td>\n",
       "      <td>104.972000</td>\n",
       "      <td>104.972000</td>\n",
       "      <td>132588000</td>\n",
       "    </tr>\n",
       "    <tr>\n",
       "      <th>3</th>\n",
       "      <td>2020-01-14</td>\n",
       "      <td>108.851997</td>\n",
       "      <td>109.482002</td>\n",
       "      <td>104.980003</td>\n",
       "      <td>107.584000</td>\n",
       "      <td>107.584000</td>\n",
       "      <td>144981000</td>\n",
       "    </tr>\n",
       "    <tr>\n",
       "      <th>4</th>\n",
       "      <td>2020-01-15</td>\n",
       "      <td>105.952003</td>\n",
       "      <td>107.568001</td>\n",
       "      <td>103.358002</td>\n",
       "      <td>103.699997</td>\n",
       "      <td>103.699997</td>\n",
       "      <td>86844000</td>\n",
       "    </tr>\n",
       "  </tbody>\n",
       "</table>\n",
       "</div>"
      ],
      "text/plain": [
       "         Date        Open        High         Low       Close   Adj Close  \\\n",
       "0  2020-01-09   99.419998   99.760002   94.573997   96.267998   96.267998   \n",
       "1  2020-01-10   96.358002   96.987999   94.739998   95.629997   95.629997   \n",
       "2  2020-01-13   98.699997  105.125999   98.400002  104.972000  104.972000   \n",
       "3  2020-01-14  108.851997  109.482002  104.980003  107.584000  107.584000   \n",
       "4  2020-01-15  105.952003  107.568001  103.358002  103.699997  103.699997   \n",
       "\n",
       "      Volume  \n",
       "0  142202000  \n",
       "1   64797500  \n",
       "2  132588000  \n",
       "3  144981000  \n",
       "4   86844000  "
      ]
     },
     "execution_count": 4,
     "metadata": {},
     "output_type": "execute_result"
    }
   ],
   "source": [
    "tsla.head()"
   ]
  },
  {
   "cell_type": "code",
   "execution_count": 5,
   "metadata": {},
   "outputs": [
    {
     "data": {
      "text/html": [
       "<div>\n",
       "<style scoped>\n",
       "    .dataframe tbody tr th:only-of-type {\n",
       "        vertical-align: middle;\n",
       "    }\n",
       "\n",
       "    .dataframe tbody tr th {\n",
       "        vertical-align: top;\n",
       "    }\n",
       "\n",
       "    .dataframe thead th {\n",
       "        text-align: right;\n",
       "    }\n",
       "</style>\n",
       "<table border=\"1\" class=\"dataframe\">\n",
       "  <thead>\n",
       "    <tr style=\"text-align: right;\">\n",
       "      <th></th>\n",
       "      <th>Date</th>\n",
       "      <th>Open</th>\n",
       "      <th>High</th>\n",
       "      <th>Low</th>\n",
       "      <th>Close</th>\n",
       "      <th>Adj Close</th>\n",
       "      <th>Volume</th>\n",
       "    </tr>\n",
       "  </thead>\n",
       "  <tbody>\n",
       "    <tr>\n",
       "      <th>0</th>\n",
       "      <td>2020-01-13</td>\n",
       "      <td>254.000000</td>\n",
       "      <td>257.899994</td>\n",
       "      <td>252.850006</td>\n",
       "      <td>254.800003</td>\n",
       "      <td>253.775467</td>\n",
       "      <td>6963599.0</td>\n",
       "    </tr>\n",
       "    <tr>\n",
       "      <th>1</th>\n",
       "      <td>2020-01-14</td>\n",
       "      <td>256.850006</td>\n",
       "      <td>258.350006</td>\n",
       "      <td>254.550003</td>\n",
       "      <td>257.200012</td>\n",
       "      <td>256.165833</td>\n",
       "      <td>7296777.0</td>\n",
       "    </tr>\n",
       "    <tr>\n",
       "      <th>2</th>\n",
       "      <td>2020-01-15</td>\n",
       "      <td>254.000000</td>\n",
       "      <td>256.000000</td>\n",
       "      <td>246.600006</td>\n",
       "      <td>248.250000</td>\n",
       "      <td>247.251801</td>\n",
       "      <td>10140451.0</td>\n",
       "    </tr>\n",
       "    <tr>\n",
       "      <th>3</th>\n",
       "      <td>2020-01-16</td>\n",
       "      <td>248.000000</td>\n",
       "      <td>252.600006</td>\n",
       "      <td>247.000000</td>\n",
       "      <td>250.449997</td>\n",
       "      <td>249.442963</td>\n",
       "      <td>8811836.0</td>\n",
       "    </tr>\n",
       "    <tr>\n",
       "      <th>4</th>\n",
       "      <td>2020-01-17</td>\n",
       "      <td>252.000000</td>\n",
       "      <td>253.899994</td>\n",
       "      <td>249.649994</td>\n",
       "      <td>251.100006</td>\n",
       "      <td>250.090347</td>\n",
       "      <td>4140818.0</td>\n",
       "    </tr>\n",
       "  </tbody>\n",
       "</table>\n",
       "</div>"
      ],
      "text/plain": [
       "         Date        Open        High         Low       Close   Adj Close  \\\n",
       "0  2020-01-13  254.000000  257.899994  252.850006  254.800003  253.775467   \n",
       "1  2020-01-14  256.850006  258.350006  254.550003  257.200012  256.165833   \n",
       "2  2020-01-15  254.000000  256.000000  246.600006  248.250000  247.251801   \n",
       "3  2020-01-16  248.000000  252.600006  247.000000  250.449997  249.442963   \n",
       "4  2020-01-17  252.000000  253.899994  249.649994  251.100006  250.090347   \n",
       "\n",
       "       Volume  \n",
       "0   6963599.0  \n",
       "1   7296777.0  \n",
       "2  10140451.0  \n",
       "3   8811836.0  \n",
       "4   4140818.0  "
      ]
     },
     "execution_count": 5,
     "metadata": {},
     "output_type": "execute_result"
    }
   ],
   "source": [
    "wipro.head()"
   ]
  },
  {
   "cell_type": "code",
   "execution_count": 6,
   "metadata": {},
   "outputs": [
    {
     "data": {
      "text/html": [
       "<div>\n",
       "<style scoped>\n",
       "    .dataframe tbody tr th:only-of-type {\n",
       "        vertical-align: middle;\n",
       "    }\n",
       "\n",
       "    .dataframe tbody tr th {\n",
       "        vertical-align: top;\n",
       "    }\n",
       "\n",
       "    .dataframe thead th {\n",
       "        text-align: right;\n",
       "    }\n",
       "</style>\n",
       "<table border=\"1\" class=\"dataframe\">\n",
       "  <thead>\n",
       "    <tr style=\"text-align: right;\">\n",
       "      <th></th>\n",
       "      <th>Date</th>\n",
       "      <th>Open</th>\n",
       "      <th>High</th>\n",
       "      <th>Low</th>\n",
       "      <th>Close</th>\n",
       "      <th>Adj Close</th>\n",
       "      <th>Volume</th>\n",
       "    </tr>\n",
       "  </thead>\n",
       "  <tbody>\n",
       "    <tr>\n",
       "      <th>0</th>\n",
       "      <td>2020-01-13</td>\n",
       "      <td>760.000000</td>\n",
       "      <td>777.500000</td>\n",
       "      <td>755.000000</td>\n",
       "      <td>773.549988</td>\n",
       "      <td>755.050415</td>\n",
       "      <td>36952038.0</td>\n",
       "    </tr>\n",
       "    <tr>\n",
       "      <th>1</th>\n",
       "      <td>2020-01-14</td>\n",
       "      <td>769.950012</td>\n",
       "      <td>776.950012</td>\n",
       "      <td>767.200012</td>\n",
       "      <td>775.650024</td>\n",
       "      <td>757.100281</td>\n",
       "      <td>11414418.0</td>\n",
       "    </tr>\n",
       "    <tr>\n",
       "      <th>2</th>\n",
       "      <td>2020-01-15</td>\n",
       "      <td>773.849976</td>\n",
       "      <td>773.849976</td>\n",
       "      <td>762.150024</td>\n",
       "      <td>767.549988</td>\n",
       "      <td>749.193909</td>\n",
       "      <td>6047430.0</td>\n",
       "    </tr>\n",
       "    <tr>\n",
       "      <th>3</th>\n",
       "      <td>2020-01-16</td>\n",
       "      <td>770.700012</td>\n",
       "      <td>772.500000</td>\n",
       "      <td>760.250000</td>\n",
       "      <td>767.000000</td>\n",
       "      <td>748.657104</td>\n",
       "      <td>5740586.0</td>\n",
       "    </tr>\n",
       "    <tr>\n",
       "      <th>4</th>\n",
       "      <td>2020-01-17</td>\n",
       "      <td>770.700012</td>\n",
       "      <td>772.900024</td>\n",
       "      <td>762.250000</td>\n",
       "      <td>767.849976</td>\n",
       "      <td>749.486755</td>\n",
       "      <td>3762957.0</td>\n",
       "    </tr>\n",
       "  </tbody>\n",
       "</table>\n",
       "</div>"
      ],
      "text/plain": [
       "         Date        Open        High         Low       Close   Adj Close  \\\n",
       "0  2020-01-13  760.000000  777.500000  755.000000  773.549988  755.050415   \n",
       "1  2020-01-14  769.950012  776.950012  767.200012  775.650024  757.100281   \n",
       "2  2020-01-15  773.849976  773.849976  762.150024  767.549988  749.193909   \n",
       "3  2020-01-16  770.700012  772.500000  760.250000  767.000000  748.657104   \n",
       "4  2020-01-17  770.700012  772.900024  762.250000  767.849976  749.486755   \n",
       "\n",
       "       Volume  \n",
       "0  36952038.0  \n",
       "1  11414418.0  \n",
       "2   6047430.0  \n",
       "3   5740586.0  \n",
       "4   3762957.0  "
      ]
     },
     "execution_count": 6,
     "metadata": {},
     "output_type": "execute_result"
    }
   ],
   "source": [
    "infy.head()"
   ]
  },
  {
   "cell_type": "markdown",
   "metadata": {},
   "source": [
    "# Adjusted Closing Prices of stock"
   ]
  },
  {
   "cell_type": "code",
   "execution_count": 9,
   "metadata": {},
   "outputs": [
    {
     "data": {
      "image/png": "[encoded data removed]",
      "text/plain": [
       "<Figure size 864x720 with 4 Axes>"
      ]
     },
     "metadata": {
      "needs_background": "light"
     },
     "output_type": "display_data"
    }
   ],
   "source": [
    "import seaborn as sns\n",
    "i=1\n",
    "plt.figure(figsize=(12,10))\n",
    "for stock_df,name in zip([tcs,tsla,wipro,infy],['TCS','TESLA','WIPRO','INFY']):\n",
    "    plt.subplot(2,2,i)\n",
    "    plt.xlabel(name)\n",
    "    sns.boxplot(stock_df['Adj Close'],orient='v')\n",
    "    \n",
    "    i=i+1\n",
    "plt.show()"
   ]
  },
  {
   "cell_type": "markdown",
   "metadata": {},
   "source": [
    "# Closing Prices of stock"
   ]
  },
  {
   "cell_type": "code",
   "execution_count": 10,
   "metadata": {},
   "outputs": [
    {
     "data": {
      "image/png": "[encoded data removed]",
      "text/plain": [
       "<Figure size 864x720 with 4 Axes>"
      ]
     },
     "metadata": {
      "needs_background": "light"
     },
     "output_type": "display_data"
    }
   ],
   "source": [
    "import seaborn as sns\n",
    "i=1\n",
    "plt.figure(figsize=(12,10))\n",
    "for stock_df,name in zip([tcs,tsla,wipro,infy],['TCS','TESLA','WIPRO','INFY']):\n",
    "    plt.subplot(2,2,i)\n",
    "    plt.xlabel(name)\n",
    "    sns.boxplot(stock_df['Close'],orient='v')\n",
    "    \n",
    "    i=i+1\n",
    "plt.show()"
   ]
  },
  {
   "cell_type": "markdown",
   "metadata": {},
   "source": [
    "# Normalized Prices"
   ]
  },
  {
   "cell_type": "code",
   "execution_count": 12,
   "metadata": {},
   "outputs": [],
   "source": [
    "for stock_df in [tcs,tsla,wipro,infy]:\n",
    "    stock_df['Normed Return']=stock_df['Adj Close']/stock_df['Adj Close'][0]"
   ]
  },
  {
   "cell_type": "code",
   "execution_count": 13,
   "metadata": {},
   "outputs": [
    {
     "data": {
      "text/html": [
       "<div>\n",
       "<style scoped>\n",
       "    .dataframe tbody tr th:only-of-type {\n",
       "        vertical-align: middle;\n",
       "    }\n",
       "\n",
       "    .dataframe tbody tr th {\n",
       "        vertical-align: top;\n",
       "    }\n",
       "\n",
       "    .dataframe thead th {\n",
       "        text-align: right;\n",
       "    }\n",
       "</style>\n",
       "<table border=\"1\" class=\"dataframe\">\n",
       "  <thead>\n",
       "    <tr style=\"text-align: right;\">\n",
       "      <th></th>\n",
       "      <th>Date</th>\n",
       "      <th>Open</th>\n",
       "      <th>High</th>\n",
       "      <th>Low</th>\n",
       "      <th>Close</th>\n",
       "      <th>Adj Close</th>\n",
       "      <th>Volume</th>\n",
       "      <th>Normed Return</th>\n",
       "    </tr>\n",
       "  </thead>\n",
       "  <tbody>\n",
       "    <tr>\n",
       "      <th>0</th>\n",
       "      <td>2020-01-09</td>\n",
       "      <td>2248.750000</td>\n",
       "      <td>2251.949951</td>\n",
       "      <td>2210.000000</td>\n",
       "      <td>2214.350098</td>\n",
       "      <td>2172.721680</td>\n",
       "      <td>3734173.0</td>\n",
       "      <td>1.000000</td>\n",
       "    </tr>\n",
       "    <tr>\n",
       "      <th>1</th>\n",
       "      <td>2020-01-10</td>\n",
       "      <td>2228.000000</td>\n",
       "      <td>2234.000000</td>\n",
       "      <td>2208.000000</td>\n",
       "      <td>2213.550049</td>\n",
       "      <td>2171.936523</td>\n",
       "      <td>1915807.0</td>\n",
       "      <td>0.999639</td>\n",
       "    </tr>\n",
       "    <tr>\n",
       "      <th>2</th>\n",
       "      <td>2020-01-13</td>\n",
       "      <td>2217.850098</td>\n",
       "      <td>2218.949951</td>\n",
       "      <td>2184.699951</td>\n",
       "      <td>2190.350098</td>\n",
       "      <td>2149.172852</td>\n",
       "      <td>2843893.0</td>\n",
       "      <td>0.989162</td>\n",
       "    </tr>\n",
       "    <tr>\n",
       "      <th>3</th>\n",
       "      <td>2020-01-14</td>\n",
       "      <td>2195.000000</td>\n",
       "      <td>2229.800049</td>\n",
       "      <td>2195.000000</td>\n",
       "      <td>2206.899902</td>\n",
       "      <td>2165.411377</td>\n",
       "      <td>2948452.0</td>\n",
       "      <td>0.996635</td>\n",
       "    </tr>\n",
       "    <tr>\n",
       "      <th>4</th>\n",
       "      <td>2020-01-15</td>\n",
       "      <td>2213.000000</td>\n",
       "      <td>2231.000000</td>\n",
       "      <td>2194.199951</td>\n",
       "      <td>2226.899902</td>\n",
       "      <td>2185.035400</td>\n",
       "      <td>2620681.0</td>\n",
       "      <td>1.005667</td>\n",
       "    </tr>\n",
       "  </tbody>\n",
       "</table>\n",
       "</div>"
      ],
      "text/plain": [
       "         Date         Open         High          Low        Close  \\\n",
       "0  2020-01-09  2248.750000  2251.949951  2210.000000  2214.350098   \n",
       "1  2020-01-10  2228.000000  2234.000000  2208.000000  2213.550049   \n",
       "2  2020-01-13  2217.850098  2218.949951  2184.699951  2190.350098   \n",
       "3  2020-01-14  2195.000000  2229.800049  2195.000000  2206.899902   \n",
       "4  2020-01-15  2213.000000  2231.000000  2194.199951  2226.899902   \n",
       "\n",
       "     Adj Close     Volume  Normed Return  \n",
       "0  2172.721680  3734173.0       1.000000  \n",
       "1  2171.936523  1915807.0       0.999639  \n",
       "2  2149.172852  2843893.0       0.989162  \n",
       "3  2165.411377  2948452.0       0.996635  \n",
       "4  2185.035400  2620681.0       1.005667  "
      ]
     },
     "execution_count": 13,
     "metadata": {},
     "output_type": "execute_result"
    }
   ],
   "source": [
    "tcs.head()"
   ]
  },
  {
   "cell_type": "code",
   "execution_count": 14,
   "metadata": {},
   "outputs": [
    {
     "data": {
      "text/html": [
       "<div>\n",
       "<style scoped>\n",
       "    .dataframe tbody tr th:only-of-type {\n",
       "        vertical-align: middle;\n",
       "    }\n",
       "\n",
       "    .dataframe tbody tr th {\n",
       "        vertical-align: top;\n",
       "    }\n",
       "\n",
       "    .dataframe thead th {\n",
       "        text-align: right;\n",
       "    }\n",
       "</style>\n",
       "<table border=\"1\" class=\"dataframe\">\n",
       "  <thead>\n",
       "    <tr style=\"text-align: right;\">\n",
       "      <th></th>\n",
       "      <th>Date</th>\n",
       "      <th>Open</th>\n",
       "      <th>High</th>\n",
       "      <th>Low</th>\n",
       "      <th>Close</th>\n",
       "      <th>Adj Close</th>\n",
       "      <th>Volume</th>\n",
       "      <th>Normed Return</th>\n",
       "    </tr>\n",
       "  </thead>\n",
       "  <tbody>\n",
       "    <tr>\n",
       "      <th>0</th>\n",
       "      <td>2020-01-13</td>\n",
       "      <td>254.000000</td>\n",
       "      <td>257.899994</td>\n",
       "      <td>252.850006</td>\n",
       "      <td>254.800003</td>\n",
       "      <td>253.775467</td>\n",
       "      <td>6963599.0</td>\n",
       "      <td>1.000000</td>\n",
       "    </tr>\n",
       "    <tr>\n",
       "      <th>1</th>\n",
       "      <td>2020-01-14</td>\n",
       "      <td>256.850006</td>\n",
       "      <td>258.350006</td>\n",
       "      <td>254.550003</td>\n",
       "      <td>257.200012</td>\n",
       "      <td>256.165833</td>\n",
       "      <td>7296777.0</td>\n",
       "      <td>1.009419</td>\n",
       "    </tr>\n",
       "    <tr>\n",
       "      <th>2</th>\n",
       "      <td>2020-01-15</td>\n",
       "      <td>254.000000</td>\n",
       "      <td>256.000000</td>\n",
       "      <td>246.600006</td>\n",
       "      <td>248.250000</td>\n",
       "      <td>247.251801</td>\n",
       "      <td>10140451.0</td>\n",
       "      <td>0.974294</td>\n",
       "    </tr>\n",
       "    <tr>\n",
       "      <th>3</th>\n",
       "      <td>2020-01-16</td>\n",
       "      <td>248.000000</td>\n",
       "      <td>252.600006</td>\n",
       "      <td>247.000000</td>\n",
       "      <td>250.449997</td>\n",
       "      <td>249.442963</td>\n",
       "      <td>8811836.0</td>\n",
       "      <td>0.982928</td>\n",
       "    </tr>\n",
       "    <tr>\n",
       "      <th>4</th>\n",
       "      <td>2020-01-17</td>\n",
       "      <td>252.000000</td>\n",
       "      <td>253.899994</td>\n",
       "      <td>249.649994</td>\n",
       "      <td>251.100006</td>\n",
       "      <td>250.090347</td>\n",
       "      <td>4140818.0</td>\n",
       "      <td>0.985479</td>\n",
       "    </tr>\n",
       "  </tbody>\n",
       "</table>\n",
       "</div>"
      ],
      "text/plain": [
       "         Date        Open        High         Low       Close   Adj Close  \\\n",
       "0  2020-01-13  254.000000  257.899994  252.850006  254.800003  253.775467   \n",
       "1  2020-01-14  256.850006  258.350006  254.550003  257.200012  256.165833   \n",
       "2  2020-01-15  254.000000  256.000000  246.600006  248.250000  247.251801   \n",
       "3  2020-01-16  248.000000  252.600006  247.000000  250.449997  249.442963   \n",
       "4  2020-01-17  252.000000  253.899994  249.649994  251.100006  250.090347   \n",
       "\n",
       "       Volume  Normed Return  \n",
       "0   6963599.0       1.000000  \n",
       "1   7296777.0       1.009419  \n",
       "2  10140451.0       0.974294  \n",
       "3   8811836.0       0.982928  \n",
       "4   4140818.0       0.985479  "
      ]
     },
     "execution_count": 14,
     "metadata": {},
     "output_type": "execute_result"
    }
   ],
   "source": [
    "wipro.head()"
   ]
  },
  {
   "cell_type": "markdown",
   "metadata": {},
   "source": [
    "# Stock Allocation"
   ]
  },
  {
   "cell_type": "code",
   "execution_count": 15,
   "metadata": {},
   "outputs": [],
   "source": [
    "for stock_df,allo in zip([tcs,tsla,wipro,infy],[0.3,0.2,0.4,0.1]):\n",
    "    stock_df['Allocation']=stock_df['Normed Return']*allo"
   ]
  },
  {
   "cell_type": "code",
   "execution_count": 16,
   "metadata": {},
   "outputs": [
    {
     "data": {
      "text/html": [
       "<div>\n",
       "<style scoped>\n",
       "    .dataframe tbody tr th:only-of-type {\n",
       "        vertical-align: middle;\n",
       "    }\n",
       "\n",
       "    .dataframe tbody tr th {\n",
       "        vertical-align: top;\n",
       "    }\n",
       "\n",
       "    .dataframe thead th {\n",
       "        text-align: right;\n",
       "    }\n",
       "</style>\n",
       "<table border=\"1\" class=\"dataframe\">\n",
       "  <thead>\n",
       "    <tr style=\"text-align: right;\">\n",
       "      <th></th>\n",
       "      <th>Date</th>\n",
       "      <th>Open</th>\n",
       "      <th>High</th>\n",
       "      <th>Low</th>\n",
       "      <th>Close</th>\n",
       "      <th>Adj Close</th>\n",
       "      <th>Volume</th>\n",
       "      <th>Normed Return</th>\n",
       "      <th>Allocation</th>\n",
       "    </tr>\n",
       "  </thead>\n",
       "  <tbody>\n",
       "    <tr>\n",
       "      <th>0</th>\n",
       "      <td>2020-01-09</td>\n",
       "      <td>2248.750000</td>\n",
       "      <td>2251.949951</td>\n",
       "      <td>2210.000000</td>\n",
       "      <td>2214.350098</td>\n",
       "      <td>2172.721680</td>\n",
       "      <td>3734173.0</td>\n",
       "      <td>1.000000</td>\n",
       "      <td>0.300000</td>\n",
       "    </tr>\n",
       "    <tr>\n",
       "      <th>1</th>\n",
       "      <td>2020-01-10</td>\n",
       "      <td>2228.000000</td>\n",
       "      <td>2234.000000</td>\n",
       "      <td>2208.000000</td>\n",
       "      <td>2213.550049</td>\n",
       "      <td>2171.936523</td>\n",
       "      <td>1915807.0</td>\n",
       "      <td>0.999639</td>\n",
       "      <td>0.299892</td>\n",
       "    </tr>\n",
       "    <tr>\n",
       "      <th>2</th>\n",
       "      <td>2020-01-13</td>\n",
       "      <td>2217.850098</td>\n",
       "      <td>2218.949951</td>\n",
       "      <td>2184.699951</td>\n",
       "      <td>2190.350098</td>\n",
       "      <td>2149.172852</td>\n",
       "      <td>2843893.0</td>\n",
       "      <td>0.989162</td>\n",
       "      <td>0.296748</td>\n",
       "    </tr>\n",
       "    <tr>\n",
       "      <th>3</th>\n",
       "      <td>2020-01-14</td>\n",
       "      <td>2195.000000</td>\n",
       "      <td>2229.800049</td>\n",
       "      <td>2195.000000</td>\n",
       "      <td>2206.899902</td>\n",
       "      <td>2165.411377</td>\n",
       "      <td>2948452.0</td>\n",
       "      <td>0.996635</td>\n",
       "      <td>0.298991</td>\n",
       "    </tr>\n",
       "    <tr>\n",
       "      <th>4</th>\n",
       "      <td>2020-01-15</td>\n",
       "      <td>2213.000000</td>\n",
       "      <td>2231.000000</td>\n",
       "      <td>2194.199951</td>\n",
       "      <td>2226.899902</td>\n",
       "      <td>2185.035400</td>\n",
       "      <td>2620681.0</td>\n",
       "      <td>1.005667</td>\n",
       "      <td>0.301700</td>\n",
       "    </tr>\n",
       "  </tbody>\n",
       "</table>\n",
       "</div>"
      ],
      "text/plain": [
       "         Date         Open         High          Low        Close  \\\n",
       "0  2020-01-09  2248.750000  2251.949951  2210.000000  2214.350098   \n",
       "1  2020-01-10  2228.000000  2234.000000  2208.000000  2213.550049   \n",
       "2  2020-01-13  2217.850098  2218.949951  2184.699951  2190.350098   \n",
       "3  2020-01-14  2195.000000  2229.800049  2195.000000  2206.899902   \n",
       "4  2020-01-15  2213.000000  2231.000000  2194.199951  2226.899902   \n",
       "\n",
       "     Adj Close     Volume  Normed Return  Allocation  \n",
       "0  2172.721680  3734173.0       1.000000    0.300000  \n",
       "1  2171.936523  1915807.0       0.999639    0.299892  \n",
       "2  2149.172852  2843893.0       0.989162    0.296748  \n",
       "3  2165.411377  2948452.0       0.996635    0.298991  \n",
       "4  2185.035400  2620681.0       1.005667    0.301700  "
      ]
     },
     "execution_count": 16,
     "metadata": {},
     "output_type": "execute_result"
    }
   ],
   "source": [
    "tcs.head()"
   ]
  },
  {
   "cell_type": "markdown",
   "metadata": {},
   "source": [
    "# Position Values Determine "
   ]
  },
  {
   "cell_type": "code",
   "execution_count": 17,
   "metadata": {},
   "outputs": [],
   "source": [
    "for stock_df in [tcs,tsla,wipro,infy]:\n",
    "    stock_df['Position Values']=stock_df['Allocation']*1000000"
   ]
  },
  {
   "cell_type": "code",
   "execution_count": 18,
   "metadata": {},
   "outputs": [
    {
     "data": {
      "text/html": [
       "<div>\n",
       "<style scoped>\n",
       "    .dataframe tbody tr th:only-of-type {\n",
       "        vertical-align: middle;\n",
       "    }\n",
       "\n",
       "    .dataframe tbody tr th {\n",
       "        vertical-align: top;\n",
       "    }\n",
       "\n",
       "    .dataframe thead th {\n",
       "        text-align: right;\n",
       "    }\n",
       "</style>\n",
       "<table border=\"1\" class=\"dataframe\">\n",
       "  <thead>\n",
       "    <tr style=\"text-align: right;\">\n",
       "      <th></th>\n",
       "      <th>Date</th>\n",
       "      <th>Open</th>\n",
       "      <th>High</th>\n",
       "      <th>Low</th>\n",
       "      <th>Close</th>\n",
       "      <th>Adj Close</th>\n",
       "      <th>Volume</th>\n",
       "      <th>Normed Return</th>\n",
       "      <th>Allocation</th>\n",
       "      <th>Position Values</th>\n",
       "    </tr>\n",
       "  </thead>\n",
       "  <tbody>\n",
       "    <tr>\n",
       "      <th>0</th>\n",
       "      <td>2020-01-09</td>\n",
       "      <td>2248.750000</td>\n",
       "      <td>2251.949951</td>\n",
       "      <td>2210.000000</td>\n",
       "      <td>2214.350098</td>\n",
       "      <td>2172.721680</td>\n",
       "      <td>3734173.0</td>\n",
       "      <td>1.000000</td>\n",
       "      <td>0.300000</td>\n",
       "      <td>300000.000000</td>\n",
       "    </tr>\n",
       "    <tr>\n",
       "      <th>1</th>\n",
       "      <td>2020-01-10</td>\n",
       "      <td>2228.000000</td>\n",
       "      <td>2234.000000</td>\n",
       "      <td>2208.000000</td>\n",
       "      <td>2213.550049</td>\n",
       "      <td>2171.936523</td>\n",
       "      <td>1915807.0</td>\n",
       "      <td>0.999639</td>\n",
       "      <td>0.299892</td>\n",
       "      <td>299891.588922</td>\n",
       "    </tr>\n",
       "    <tr>\n",
       "      <th>2</th>\n",
       "      <td>2020-01-13</td>\n",
       "      <td>2217.850098</td>\n",
       "      <td>2218.949951</td>\n",
       "      <td>2184.699951</td>\n",
       "      <td>2190.350098</td>\n",
       "      <td>2149.172852</td>\n",
       "      <td>2843893.0</td>\n",
       "      <td>0.989162</td>\n",
       "      <td>0.296748</td>\n",
       "      <td>296748.479814</td>\n",
       "    </tr>\n",
       "    <tr>\n",
       "      <th>3</th>\n",
       "      <td>2020-01-14</td>\n",
       "      <td>2195.000000</td>\n",
       "      <td>2229.800049</td>\n",
       "      <td>2195.000000</td>\n",
       "      <td>2206.899902</td>\n",
       "      <td>2165.411377</td>\n",
       "      <td>2948452.0</td>\n",
       "      <td>0.996635</td>\n",
       "      <td>0.298991</td>\n",
       "      <td>298990.625021</td>\n",
       "    </tr>\n",
       "    <tr>\n",
       "      <th>4</th>\n",
       "      <td>2020-01-15</td>\n",
       "      <td>2213.000000</td>\n",
       "      <td>2231.000000</td>\n",
       "      <td>2194.199951</td>\n",
       "      <td>2226.899902</td>\n",
       "      <td>2185.035400</td>\n",
       "      <td>2620681.0</td>\n",
       "      <td>1.005667</td>\n",
       "      <td>0.301700</td>\n",
       "      <td>301700.225130</td>\n",
       "    </tr>\n",
       "  </tbody>\n",
       "</table>\n",
       "</div>"
      ],
      "text/plain": [
       "         Date         Open         High          Low        Close  \\\n",
       "0  2020-01-09  2248.750000  2251.949951  2210.000000  2214.350098   \n",
       "1  2020-01-10  2228.000000  2234.000000  2208.000000  2213.550049   \n",
       "2  2020-01-13  2217.850098  2218.949951  2184.699951  2190.350098   \n",
       "3  2020-01-14  2195.000000  2229.800049  2195.000000  2206.899902   \n",
       "4  2020-01-15  2213.000000  2231.000000  2194.199951  2226.899902   \n",
       "\n",
       "     Adj Close     Volume  Normed Return  Allocation  Position Values  \n",
       "0  2172.721680  3734173.0       1.000000    0.300000    300000.000000  \n",
       "1  2171.936523  1915807.0       0.999639    0.299892    299891.588922  \n",
       "2  2149.172852  2843893.0       0.989162    0.296748    296748.479814  \n",
       "3  2165.411377  2948452.0       0.996635    0.298991    298990.625021  \n",
       "4  2185.035400  2620681.0       1.005667    0.301700    301700.225130  "
      ]
     },
     "execution_count": 18,
     "metadata": {},
     "output_type": "execute_result"
    }
   ],
   "source": [
    "tcs.head()"
   ]
  },
  {
   "cell_type": "markdown",
   "metadata": {},
   "source": [
    "\n",
    "# Concatination of Position Values"
   ]
  },
  {
   "cell_type": "code",
   "execution_count": 19,
   "metadata": {},
   "outputs": [],
   "source": [
    "portfolio_val=pd.concat([tcs['Position Values'],tsla['Position Values'],wipro['Position Values'],infy['Position Values']],axis=1)"
   ]
  },
  {
   "cell_type": "code",
   "execution_count": 20,
   "metadata": {},
   "outputs": [
    {
     "data": {
      "text/html": [
       "<div>\n",
       "<style scoped>\n",
       "    .dataframe tbody tr th:only-of-type {\n",
       "        vertical-align: middle;\n",
       "    }\n",
       "\n",
       "    .dataframe tbody tr th {\n",
       "        vertical-align: top;\n",
       "    }\n",
       "\n",
       "    .dataframe thead th {\n",
       "        text-align: right;\n",
       "    }\n",
       "</style>\n",
       "<table border=\"1\" class=\"dataframe\">\n",
       "  <thead>\n",
       "    <tr style=\"text-align: right;\">\n",
       "      <th></th>\n",
       "      <th>Position Values</th>\n",
       "      <th>Position Values</th>\n",
       "      <th>Position Values</th>\n",
       "      <th>Position Values</th>\n",
       "    </tr>\n",
       "  </thead>\n",
       "  <tbody>\n",
       "    <tr>\n",
       "      <th>0</th>\n",
       "      <td>300000.000000</td>\n",
       "      <td>200000.000000</td>\n",
       "      <td>400000.000000</td>\n",
       "      <td>100000.000000</td>\n",
       "    </tr>\n",
       "    <tr>\n",
       "      <th>1</th>\n",
       "      <td>299891.588922</td>\n",
       "      <td>198674.531489</td>\n",
       "      <td>403767.686496</td>\n",
       "      <td>100271.487302</td>\n",
       "    </tr>\n",
       "    <tr>\n",
       "      <th>2</th>\n",
       "      <td>296748.479814</td>\n",
       "      <td>218082.856569</td>\n",
       "      <td>389717.420557</td>\n",
       "      <td>99224.355635</td>\n",
       "    </tr>\n",
       "    <tr>\n",
       "      <th>3</th>\n",
       "      <td>298990.625021</td>\n",
       "      <td>223509.374320</td>\n",
       "      <td>393171.122408</td>\n",
       "      <td>99153.260382</td>\n",
       "    </tr>\n",
       "    <tr>\n",
       "      <th>4</th>\n",
       "      <td>301700.225130</td>\n",
       "      <td>215440.227603</td>\n",
       "      <td>394191.526796</td>\n",
       "      <td>99263.140594</td>\n",
       "    </tr>\n",
       "  </tbody>\n",
       "</table>\n",
       "</div>"
      ],
      "text/plain": [
       "   Position Values  Position Values  Position Values  Position Values\n",
       "0    300000.000000    200000.000000    400000.000000    100000.000000\n",
       "1    299891.588922    198674.531489    403767.686496    100271.487302\n",
       "2    296748.479814    218082.856569    389717.420557     99224.355635\n",
       "3    298990.625021    223509.374320    393171.122408     99153.260382\n",
       "4    301700.225130    215440.227603    394191.526796     99263.140594"
      ]
     },
     "execution_count": 20,
     "metadata": {},
     "output_type": "execute_result"
    }
   ],
   "source": [
    "portfolio_val.head()"
   ]
  },
  {
   "cell_type": "code",
   "execution_count": 21,
   "metadata": {},
   "outputs": [],
   "source": [
    "portfolio_val.columns=['TCS Pos','TSLA Pos','Wipro Pos','Infy Pos']"
   ]
  },
  {
   "cell_type": "code",
   "execution_count": 22,
   "metadata": {},
   "outputs": [
    {
     "data": {
      "text/html": [
       "<div>\n",
       "<style scoped>\n",
       "    .dataframe tbody tr th:only-of-type {\n",
       "        vertical-align: middle;\n",
       "    }\n",
       "\n",
       "    .dataframe tbody tr th {\n",
       "        vertical-align: top;\n",
       "    }\n",
       "\n",
       "    .dataframe thead th {\n",
       "        text-align: right;\n",
       "    }\n",
       "</style>\n",
       "<table border=\"1\" class=\"dataframe\">\n",
       "  <thead>\n",
       "    <tr style=\"text-align: right;\">\n",
       "      <th></th>\n",
       "      <th>TCS Pos</th>\n",
       "      <th>TSLA Pos</th>\n",
       "      <th>Wipro Pos</th>\n",
       "      <th>Infy Pos</th>\n",
       "    </tr>\n",
       "  </thead>\n",
       "  <tbody>\n",
       "    <tr>\n",
       "      <th>0</th>\n",
       "      <td>300000.000000</td>\n",
       "      <td>200000.000000</td>\n",
       "      <td>400000.000000</td>\n",
       "      <td>100000.000000</td>\n",
       "    </tr>\n",
       "    <tr>\n",
       "      <th>1</th>\n",
       "      <td>299891.588922</td>\n",
       "      <td>198674.531489</td>\n",
       "      <td>403767.686496</td>\n",
       "      <td>100271.487302</td>\n",
       "    </tr>\n",
       "    <tr>\n",
       "      <th>2</th>\n",
       "      <td>296748.479814</td>\n",
       "      <td>218082.856569</td>\n",
       "      <td>389717.420557</td>\n",
       "      <td>99224.355635</td>\n",
       "    </tr>\n",
       "    <tr>\n",
       "      <th>3</th>\n",
       "      <td>298990.625021</td>\n",
       "      <td>223509.374320</td>\n",
       "      <td>393171.122408</td>\n",
       "      <td>99153.260382</td>\n",
       "    </tr>\n",
       "    <tr>\n",
       "      <th>4</th>\n",
       "      <td>301700.225130</td>\n",
       "      <td>215440.227603</td>\n",
       "      <td>394191.526796</td>\n",
       "      <td>99263.140594</td>\n",
       "    </tr>\n",
       "  </tbody>\n",
       "</table>\n",
       "</div>"
      ],
      "text/plain": [
       "         TCS Pos       TSLA Pos      Wipro Pos       Infy Pos\n",
       "0  300000.000000  200000.000000  400000.000000  100000.000000\n",
       "1  299891.588922  198674.531489  403767.686496  100271.487302\n",
       "2  296748.479814  218082.856569  389717.420557   99224.355635\n",
       "3  298990.625021  223509.374320  393171.122408   99153.260382\n",
       "4  301700.225130  215440.227603  394191.526796   99263.140594"
      ]
     },
     "execution_count": 22,
     "metadata": {},
     "output_type": "execute_result"
    }
   ],
   "source": [
    "portfolio_val.head()"
   ]
  },
  {
   "cell_type": "markdown",
   "metadata": {},
   "source": [
    "# Total Portfolio Value"
   ]
  },
  {
   "cell_type": "code",
   "execution_count": 23,
   "metadata": {},
   "outputs": [],
   "source": [
    "portfolio_val['Total Pos']=portfolio_val.sum(axis=1)"
   ]
  },
  {
   "cell_type": "code",
   "execution_count": 25,
   "metadata": {},
   "outputs": [
    {
     "data": {
      "text/html": [
       "<div>\n",
       "<style scoped>\n",
       "    .dataframe tbody tr th:only-of-type {\n",
       "        vertical-align: middle;\n",
       "    }\n",
       "\n",
       "    .dataframe tbody tr th {\n",
       "        vertical-align: top;\n",
       "    }\n",
       "\n",
       "    .dataframe thead th {\n",
       "        text-align: right;\n",
       "    }\n",
       "</style>\n",
       "<table border=\"1\" class=\"dataframe\">\n",
       "  <thead>\n",
       "    <tr style=\"text-align: right;\">\n",
       "      <th></th>\n",
       "      <th>TCS Pos</th>\n",
       "      <th>TSLA Pos</th>\n",
       "      <th>Wipro Pos</th>\n",
       "      <th>Infy Pos</th>\n",
       "      <th>Total Pos</th>\n",
       "    </tr>\n",
       "  </thead>\n",
       "  <tbody>\n",
       "    <tr>\n",
       "      <th>0</th>\n",
       "      <td>300000.000000</td>\n",
       "      <td>200000.000000</td>\n",
       "      <td>400000.000000</td>\n",
       "      <td>100000.000000</td>\n",
       "      <td>1.000000e+06</td>\n",
       "    </tr>\n",
       "    <tr>\n",
       "      <th>1</th>\n",
       "      <td>299891.588922</td>\n",
       "      <td>198674.531489</td>\n",
       "      <td>403767.686496</td>\n",
       "      <td>100271.487302</td>\n",
       "      <td>1.002605e+06</td>\n",
       "    </tr>\n",
       "    <tr>\n",
       "      <th>2</th>\n",
       "      <td>296748.479814</td>\n",
       "      <td>218082.856569</td>\n",
       "      <td>389717.420557</td>\n",
       "      <td>99224.355635</td>\n",
       "      <td>1.003773e+06</td>\n",
       "    </tr>\n",
       "    <tr>\n",
       "      <th>3</th>\n",
       "      <td>298990.625021</td>\n",
       "      <td>223509.374320</td>\n",
       "      <td>393171.122408</td>\n",
       "      <td>99153.260382</td>\n",
       "      <td>1.014824e+06</td>\n",
       "    </tr>\n",
       "    <tr>\n",
       "      <th>4</th>\n",
       "      <td>301700.225130</td>\n",
       "      <td>215440.227603</td>\n",
       "      <td>394191.526796</td>\n",
       "      <td>99263.140594</td>\n",
       "      <td>1.010595e+06</td>\n",
       "    </tr>\n",
       "  </tbody>\n",
       "</table>\n",
       "</div>"
      ],
      "text/plain": [
       "         TCS Pos       TSLA Pos      Wipro Pos       Infy Pos     Total Pos\n",
       "0  300000.000000  200000.000000  400000.000000  100000.000000  1.000000e+06\n",
       "1  299891.588922  198674.531489  403767.686496  100271.487302  1.002605e+06\n",
       "2  296748.479814  218082.856569  389717.420557   99224.355635  1.003773e+06\n",
       "3  298990.625021  223509.374320  393171.122408   99153.260382  1.014824e+06\n",
       "4  301700.225130  215440.227603  394191.526796   99263.140594  1.010595e+06"
      ]
     },
     "execution_count": 25,
     "metadata": {},
     "output_type": "execute_result"
    }
   ],
   "source": [
    "portfolio_val.head()"
   ]
  },
  {
   "cell_type": "code",
   "execution_count": 26,
   "metadata": {},
   "outputs": [
    {
     "data": {
      "text/plain": [
       "Text(0.5, 1.0, 'Total Portfolio Value')"
      ]
     },
     "execution_count": 26,
     "metadata": {},
     "output_type": "execute_result"
    },
    {
     "data": {
      "image/png": "[encoded data removed]",
      "text/plain": [
       "<Figure size 720x576 with 1 Axes>"
      ]
     },
     "metadata": {
      "needs_background": "light"
     },
     "output_type": "display_data"
    }
   ],
   "source": [
    "portfolio_val['Total Pos'].plot(figsize=(10,8))\n",
    "plt.title('Total Portfolio Value')"
   ]
  },
  {
   "cell_type": "code",
   "execution_count": 27,
   "metadata": {},
   "outputs": [
    {
     "data": {
      "text/plain": [
       "<matplotlib.axes._subplots.AxesSubplot at 0x18da8e2b2e0>"
      ]
     },
     "execution_count": 27,
     "metadata": {},
     "output_type": "execute_result"
    },
    {
     "data": {
      "image/png": "[encoded data removed]",
      "text/plain": [
       "<Figure size 720x576 with 1 Axes>"
      ]
     },
     "metadata": {
      "needs_background": "light"
     },
     "output_type": "display_data"
    }
   ],
   "source": [
    "portfolio_val.drop('Total Pos',axis=1).plot(figsize=(10,8),kind='line')"
   ]
  },
  {
   "cell_type": "markdown",
   "metadata": {},
   "source": [
    "# Portfolio Statistics \n"
   ]
  },
  {
   "cell_type": "markdown",
   "metadata": {},
   "source": [
    "# Daily Return"
   ]
  },
  {
   "cell_type": "code",
   "execution_count": 28,
   "metadata": {},
   "outputs": [
    {
     "data": {
      "text/html": [
       "<div>\n",
       "<style scoped>\n",
       "    .dataframe tbody tr th:only-of-type {\n",
       "        vertical-align: middle;\n",
       "    }\n",
       "\n",
       "    .dataframe tbody tr th {\n",
       "        vertical-align: top;\n",
       "    }\n",
       "\n",
       "    .dataframe thead th {\n",
       "        text-align: right;\n",
       "    }\n",
       "</style>\n",
       "<table border=\"1\" class=\"dataframe\">\n",
       "  <thead>\n",
       "    <tr style=\"text-align: right;\">\n",
       "      <th></th>\n",
       "      <th>TCS Pos</th>\n",
       "      <th>TSLA Pos</th>\n",
       "      <th>Wipro Pos</th>\n",
       "      <th>Infy Pos</th>\n",
       "      <th>Total Pos</th>\n",
       "      <th>Daily Return</th>\n",
       "    </tr>\n",
       "  </thead>\n",
       "  <tbody>\n",
       "    <tr>\n",
       "      <th>0</th>\n",
       "      <td>300000.000000</td>\n",
       "      <td>2.000000e+05</td>\n",
       "      <td>400000.000000</td>\n",
       "      <td>100000.000000</td>\n",
       "      <td>1.000000e+06</td>\n",
       "      <td>NaN</td>\n",
       "    </tr>\n",
       "    <tr>\n",
       "      <th>1</th>\n",
       "      <td>299891.588922</td>\n",
       "      <td>1.986745e+05</td>\n",
       "      <td>403767.686496</td>\n",
       "      <td>100271.487302</td>\n",
       "      <td>1.002605e+06</td>\n",
       "      <td>0.002605</td>\n",
       "    </tr>\n",
       "    <tr>\n",
       "      <th>2</th>\n",
       "      <td>296748.479814</td>\n",
       "      <td>2.180829e+05</td>\n",
       "      <td>389717.420557</td>\n",
       "      <td>99224.355635</td>\n",
       "      <td>1.003773e+06</td>\n",
       "      <td>0.001165</td>\n",
       "    </tr>\n",
       "    <tr>\n",
       "      <th>3</th>\n",
       "      <td>298990.625021</td>\n",
       "      <td>2.235094e+05</td>\n",
       "      <td>393171.122408</td>\n",
       "      <td>99153.260382</td>\n",
       "      <td>1.014824e+06</td>\n",
       "      <td>0.011010</td>\n",
       "    </tr>\n",
       "    <tr>\n",
       "      <th>4</th>\n",
       "      <td>301700.225130</td>\n",
       "      <td>2.154402e+05</td>\n",
       "      <td>394191.526796</td>\n",
       "      <td>99263.140594</td>\n",
       "      <td>1.010595e+06</td>\n",
       "      <td>-0.004167</td>\n",
       "    </tr>\n",
       "    <tr>\n",
       "      <th>...</th>\n",
       "      <td>...</td>\n",
       "      <td>...</td>\n",
       "      <td>...</td>\n",
       "      <td>...</td>\n",
       "      <td>...</td>\n",
       "      <td>...</td>\n",
       "    </tr>\n",
       "    <tr>\n",
       "      <th>248</th>\n",
       "      <td>421337.904632</td>\n",
       "      <td>1.516122e+06</td>\n",
       "      <td>678079.748347</td>\n",
       "      <td>173776.472396</td>\n",
       "      <td>2.789316e+06</td>\n",
       "      <td>0.032545</td>\n",
       "    </tr>\n",
       "    <tr>\n",
       "      <th>249</th>\n",
       "      <td>418755.896383</td>\n",
       "      <td>1.527216e+06</td>\n",
       "      <td>704244.572230</td>\n",
       "      <td>182265.968425</td>\n",
       "      <td>2.832482e+06</td>\n",
       "      <td>0.015476</td>\n",
       "    </tr>\n",
       "    <tr>\n",
       "      <th>250</th>\n",
       "      <td>430920.342545</td>\n",
       "      <td>1.570574e+06</td>\n",
       "      <td>NaN</td>\n",
       "      <td>NaN</td>\n",
       "      <td>2.001494e+06</td>\n",
       "      <td>-0.293378</td>\n",
       "    </tr>\n",
       "    <tr>\n",
       "      <th>251</th>\n",
       "      <td>NaN</td>\n",
       "      <td>1.695350e+06</td>\n",
       "      <td>NaN</td>\n",
       "      <td>NaN</td>\n",
       "      <td>1.695350e+06</td>\n",
       "      <td>-0.152958</td>\n",
       "    </tr>\n",
       "    <tr>\n",
       "      <th>252</th>\n",
       "      <td>NaN</td>\n",
       "      <td>1.828271e+06</td>\n",
       "      <td>NaN</td>\n",
       "      <td>NaN</td>\n",
       "      <td>1.828271e+06</td>\n",
       "      <td>0.078403</td>\n",
       "    </tr>\n",
       "  </tbody>\n",
       "</table>\n",
       "<p>253 rows × 6 columns</p>\n",
       "</div>"
      ],
      "text/plain": [
       "           TCS Pos      TSLA Pos      Wipro Pos       Infy Pos     Total Pos  \\\n",
       "0    300000.000000  2.000000e+05  400000.000000  100000.000000  1.000000e+06   \n",
       "1    299891.588922  1.986745e+05  403767.686496  100271.487302  1.002605e+06   \n",
       "2    296748.479814  2.180829e+05  389717.420557   99224.355635  1.003773e+06   \n",
       "3    298990.625021  2.235094e+05  393171.122408   99153.260382  1.014824e+06   \n",
       "4    301700.225130  2.154402e+05  394191.526796   99263.140594  1.010595e+06   \n",
       "..             ...           ...            ...            ...           ...   \n",
       "248  421337.904632  1.516122e+06  678079.748347  173776.472396  2.789316e+06   \n",
       "249  418755.896383  1.527216e+06  704244.572230  182265.968425  2.832482e+06   \n",
       "250  430920.342545  1.570574e+06            NaN            NaN  2.001494e+06   \n",
       "251            NaN  1.695350e+06            NaN            NaN  1.695350e+06   \n",
       "252            NaN  1.828271e+06            NaN            NaN  1.828271e+06   \n",
       "\n",
       "     Daily Return  \n",
       "0             NaN  \n",
       "1        0.002605  \n",
       "2        0.001165  \n",
       "3        0.011010  \n",
       "4       -0.004167  \n",
       "..            ...  \n",
       "248      0.032545  \n",
       "249      0.015476  \n",
       "250     -0.293378  \n",
       "251     -0.152958  \n",
       "252      0.078403  \n",
       "\n",
       "[253 rows x 6 columns]"
      ]
     },
     "execution_count": 28,
     "metadata": {},
     "output_type": "execute_result"
    }
   ],
   "source": [
    "portfolio_val['Daily Return']=portfolio_val['Total Pos'].pct_change(1)\n",
    "portfolio_val"
   ]
  },
  {
   "cell_type": "markdown",
   "metadata": {},
   "source": [
    "# Cumulative Return"
   ]
  },
  {
   "cell_type": "code",
   "execution_count": 35,
   "metadata": {},
   "outputs": [
    {
     "name": "stdout",
     "output_type": "stream",
     "text": [
      "Return Percentage= 183.24821271380713\n"
     ]
    }
   ],
   "source": [
    "cum_ret=((portfolio_val.iloc[-4]['Total Pos']/portfolio_val['Total Pos'][0])-1)*100\n",
    "print(\"Return Percentage=\",cum_ret)"
   ]
  },
  {
   "cell_type": "markdown",
   "metadata": {},
   "source": [
    "# Average Daily Return"
   ]
  },
  {
   "cell_type": "code",
   "execution_count": 36,
   "metadata": {},
   "outputs": [
    {
     "data": {
      "text/plain": [
       "0.005401045413485477"
      ]
     },
     "execution_count": 36,
     "metadata": {},
     "output_type": "execute_result"
    }
   ],
   "source": [
    "portfolio_val['Daily Return'].iloc[0:249].mean()"
   ]
  },
  {
   "cell_type": "markdown",
   "metadata": {},
   "source": [
    "# Standard Daily Return"
   ]
  },
  {
   "cell_type": "code",
   "execution_count": 37,
   "metadata": {},
   "outputs": [
    {
     "data": {
      "text/plain": [
       "0.05140170357518116"
      ]
     },
     "execution_count": 37,
     "metadata": {},
     "output_type": "execute_result"
    }
   ],
   "source": [
    "portfolio_val['Daily Return'].iloc[0:249].std()"
   ]
  },
  {
   "cell_type": "markdown",
   "metadata": {},
   "source": [
    "# Sharpe Ratio"
   ]
  },
  {
   "cell_type": "code",
   "execution_count": 38,
   "metadata": {},
   "outputs": [
    {
     "data": {
      "text/plain": [
       "<matplotlib.axes._subplots.AxesSubplot at 0x18da887a160>"
      ]
     },
     "execution_count": 38,
     "metadata": {},
     "output_type": "execute_result"
    },
    {
     "data": {
      "image/png": "[encoded data removed]",
      "text/plain": [
       "<Figure size 432x288 with 1 Axes>"
      ]
     },
     "metadata": {
      "needs_background": "light"
     },
     "output_type": "display_data"
    }
   ],
   "source": [
    "portfolio_val['Daily Return'].plot(kind='kde')"
   ]
  },
  {
   "cell_type": "code",
   "execution_count": 39,
   "metadata": {},
   "outputs": [
    {
     "data": {
      "text/plain": [
       "0.0706307579300513"
      ]
     },
     "execution_count": 39,
     "metadata": {},
     "output_type": "execute_result"
    }
   ],
   "source": [
    "SR=portfolio_val['Daily Return'].mean()/portfolio_val['Daily Return'].std()\n",
    "SR"
   ]
  },
  {
   "cell_type": "code",
   "execution_count": 40,
   "metadata": {},
   "outputs": [
    {
     "data": {
      "text/plain": [
       "1.1212285223695138"
      ]
     },
     "execution_count": 40,
     "metadata": {},
     "output_type": "execute_result"
    }
   ],
   "source": [
    "ASR=(252**0.5)*SR\n",
    "ASR"
   ]
  },
  {
   "cell_type": "code",
   "execution_count": 41,
   "metadata": {},
   "outputs": [
    {
     "data": {
      "text/plain": [
       "<matplotlib.legend.Legend at 0x18da8836880>"
      ]
     },
     "execution_count": 41,
     "metadata": {},
     "output_type": "execute_result"
    },
    {
     "data": {
      "image/png": "[encoded data removed]",
      "text/plain": [
       "<Figure size 1080x720 with 1 Axes>"
      ]
     },
     "metadata": {
      "needs_background": "light"
     },
     "output_type": "display_data"
    }
   ],
   "source": [
    "plt.figure(figsize=(15,10))\n",
    "tcs['Adj Close'].pct_change(1).plot(kind='kde')\n",
    "tsla['Adj Close'].pct_change(1).plot(kind='kde')\n",
    "wipro['Adj Close'].pct_change(1).plot(kind='kde')\n",
    "infy['Adj Close'].pct_change(1).plot(kind='kde')\n",
    "plt.legend(labels=['TCS','TESLA','WIPRO','INFY'])"
   ]
  },
  {
   "cell_type": "code",
   "execution_count": null,
   "metadata": {},
   "outputs": [],
   "source": []
  }
 ],
 "metadata": {
  "kernelspec": {
   "display_name": "Python 3",
   "language": "python",
   "name": "python3"
  },
  "language_info": {
   "codemirror_mode": {
    "name": "ipython",
    "version": 3
   },
   "file_extension": ".py",
   "mimetype": "text/x-python",
   "name": "python",
   "nbconvert_exporter": "python",
   "pygments_lexer": "ipython3",
   "version": "3.8.3"
  }
 },
 "nbformat": 4,
 "nbformat_minor": 4
}
